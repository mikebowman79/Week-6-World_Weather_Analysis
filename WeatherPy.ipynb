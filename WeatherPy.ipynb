{
 "cells": [
  {
   "cell_type": "code",
   "execution_count": 2,
   "id": "b694256a",
   "metadata": {},
   "outputs": [
    {
     "ename": "ModuleNotFoundError",
     "evalue": "No module named 'citipy'",
     "output_type": "error",
     "traceback": [
      "\u001b[1;31m---------------------------------------------------------------------------\u001b[0m",
      "\u001b[1;31mModuleNotFoundError\u001b[0m                       Traceback (most recent call last)",
      "\u001b[1;32m~\\AppData\\Local\\Temp\\ipykernel_33132\\1425729443.py\u001b[0m in \u001b[0;36m<module>\u001b[1;34m\u001b[0m\n\u001b[0;32m      5\u001b[0m \u001b[1;32mimport\u001b[0m \u001b[0mmatplotlib\u001b[0m\u001b[1;33m.\u001b[0m\u001b[0mpyplot\u001b[0m \u001b[1;32mas\u001b[0m \u001b[0mplt\u001b[0m\u001b[1;33m\u001b[0m\u001b[1;33m\u001b[0m\u001b[0m\n\u001b[0;32m      6\u001b[0m \u001b[1;32mimport\u001b[0m \u001b[0mnumpy\u001b[0m \u001b[1;32mas\u001b[0m \u001b[0mnp\u001b[0m\u001b[1;33m\u001b[0m\u001b[1;33m\u001b[0m\u001b[0m\n\u001b[1;32m----> 7\u001b[1;33m \u001b[1;32mfrom\u001b[0m \u001b[0mcitipy\u001b[0m \u001b[1;32mimport\u001b[0m \u001b[0mcitipy\u001b[0m\u001b[1;33m\u001b[0m\u001b[1;33m\u001b[0m\u001b[0m\n\u001b[0m\u001b[0;32m      8\u001b[0m \u001b[1;32mimport\u001b[0m \u001b[0mtime\u001b[0m\u001b[1;33m\u001b[0m\u001b[1;33m\u001b[0m\u001b[0m\n\u001b[0;32m      9\u001b[0m \u001b[1;32mfrom\u001b[0m \u001b[0mdatetime\u001b[0m \u001b[1;32mimport\u001b[0m \u001b[0mdatetime\u001b[0m\u001b[1;33m\u001b[0m\u001b[1;33m\u001b[0m\u001b[0m\n",
      "\u001b[1;31mModuleNotFoundError\u001b[0m: No module named 'citipy'"
     ]
    }
   ],
   "source": [
    "# 6.1.4\n",
    "\n",
    "# Import the dependencies.\n",
    "import pandas as pd\n",
    "import matplotlib.pyplot as plt\n",
    "import numpy as np\n",
    "from citipy import citipy\n",
    "import time\n",
    "from datetime import datetime"
   ]
  },
  {
   "cell_type": "code",
   "execution_count": 3,
   "id": "752a53aa",
   "metadata": {},
   "outputs": [
    {
     "data": {
      "text/plain": [
       "<zip at 0x29739507108>"
      ]
     },
     "execution_count": 3,
     "metadata": {},
     "output_type": "execute_result"
    }
   ],
   "source": [
    "# Create a set of random latitude and longitude combinations.\n",
    "lats = np.random.uniform(low=-90.000, high=90.000, size=1500)\n",
    "lngs = np.random.uniform(low=-180.000, high=180.000, size=1500)\n",
    "lat_lngs = zip(lats, lngs)\n",
    "lat_lngs"
   ]
  },
  {
   "cell_type": "code",
   "execution_count": null,
   "id": "c695c1ef",
   "metadata": {},
   "outputs": [],
   "source": [
    "# Add the latitudes and longitudes to a list.\n",
    "coordinates = list(lat_lngs)"
   ]
  },
  {
   "cell_type": "code",
   "execution_count": null,
   "id": "9d516376",
   "metadata": {},
   "outputs": [],
   "source": [
    "# Create a list for holding the cities.\n",
    "cities = []\n",
    "\n",
    "# Identify the nearest city for each latitude and longitude combination.\n",
    "for coordinate in coordinates:\n",
    "    city = citipy.nearest_city(coordinate[0], coordinate[1]).city_name\n",
    "    \n",
    "    # If the city is unique, then we will add it to the cities list.\n",
    "    if city not in cities:\n",
    "        cities.append(city)\n",
    "        \n",
    "# Print the city count to confirm sufficient count.\n",
    "len(cities)"
   ]
  },
  {
   "cell_type": "code",
   "execution_count": 2,
   "id": "50f241cf",
   "metadata": {},
   "outputs": [
    {
     "ename": "NameError",
     "evalue": "name 'null' is not defined",
     "output_type": "error",
     "traceback": [
      "\u001b[1;31m---------------------------------------------------------------------------\u001b[0m",
      "\u001b[1;31mNameError\u001b[0m                                 Traceback (most recent call last)",
      "\u001b[1;32m~\\AppData\\Local\\Temp\\ipykernel_18852\\2655798158.py\u001b[0m in \u001b[0;36m<module>\u001b[1;34m\u001b[0m\n\u001b[0;32m      5\u001b[0m \u001b[1;33m\u001b[0m\u001b[0m\n\u001b[0;32m      6\u001b[0m \u001b[1;31m# Import the API key.\u001b[0m\u001b[1;33m\u001b[0m\u001b[1;33m\u001b[0m\u001b[1;33m\u001b[0m\u001b[0m\n\u001b[1;32m----> 7\u001b[1;33m \u001b[1;32mfrom\u001b[0m \u001b[0mconfig\u001b[0m \u001b[1;32mimport\u001b[0m \u001b[0mweather_api_key\u001b[0m\u001b[1;33m\u001b[0m\u001b[1;33m\u001b[0m\u001b[0m\n\u001b[0m\u001b[0;32m      8\u001b[0m \u001b[1;33m\u001b[0m\u001b[0m\n\u001b[0;32m      9\u001b[0m \u001b[1;31m# Starting URL for Weather Map API Call.\u001b[0m\u001b[1;33m\u001b[0m\u001b[1;33m\u001b[0m\u001b[1;33m\u001b[0m\u001b[0m\n",
      "\u001b[1;32m~\\config.py\u001b[0m in \u001b[0;36m<module>\u001b[1;34m\u001b[0m\n\u001b[0;32m     26\u001b[0m   {\n\u001b[0;32m     27\u001b[0m    \u001b[1;34m\"cell_type\"\u001b[0m\u001b[1;33m:\u001b[0m \u001b[1;34m\"code\"\u001b[0m\u001b[1;33m,\u001b[0m\u001b[1;33m\u001b[0m\u001b[1;33m\u001b[0m\u001b[0m\n\u001b[1;32m---> 28\u001b[1;33m    \u001b[1;34m\"execution_count\"\u001b[0m\u001b[1;33m:\u001b[0m \u001b[0mnull\u001b[0m\u001b[1;33m,\u001b[0m\u001b[1;33m\u001b[0m\u001b[1;33m\u001b[0m\u001b[0m\n\u001b[0m\u001b[0;32m     29\u001b[0m    \u001b[1;34m\"id\"\u001b[0m\u001b[1;33m:\u001b[0m \u001b[1;34m\"fc13261e\"\u001b[0m\u001b[1;33m,\u001b[0m\u001b[1;33m\u001b[0m\u001b[1;33m\u001b[0m\u001b[0m\n\u001b[0;32m     30\u001b[0m    \u001b[1;34m\"metadata\"\u001b[0m\u001b[1;33m:\u001b[0m \u001b[1;33m{\u001b[0m\u001b[1;33m}\u001b[0m\u001b[1;33m,\u001b[0m\u001b[1;33m\u001b[0m\u001b[1;33m\u001b[0m\u001b[0m\n",
      "\u001b[1;31mNameError\u001b[0m: name 'null' is not defined"
     ]
    }
   ],
   "source": [
    "# 6.2.6\n",
    "\n",
    "# Import the requests library.\n",
    "import requests\n",
    "\n",
    "# Import the API key.\n",
    "from config import weather_api_key\n",
    "\n",
    "# Starting URL for Weather Map API Call.\n",
    "url = \"https://api.openweathermap.org/data/2.5/weather?units=Imperial&appid=\" + weather_api_key"
   ]
  },
  {
   "cell_type": "code",
   "execution_count": null,
   "id": "1cfd333e",
   "metadata": {},
   "outputs": [],
   "source": [
    "# Create an empty list to hold the weather data.\n",
    "city_data = []\n",
    "\n",
    "# Print the beginning of the logging.\n",
    "print(\"Beginning Data Retrieval     \")\n",
    "print(\"-----------------------------\")\n",
    "\n",
    "# Create counters.\n",
    "record_count = 1\n",
    "set_count = 1"
   ]
  },
  {
   "cell_type": "code",
   "execution_count": null,
   "id": "017d3238",
   "metadata": {},
   "outputs": [],
   "source": [
    "Beginning Data Retrieval"
   ]
  },
  {
   "cell_type": "code",
   "execution_count": null,
   "id": "390c248a",
   "metadata": {},
   "outputs": [],
   "source": [
    "# Loop through all the cities in our list.\n",
    "for i in range(len(cities)):\n",
    "    \n",
    "    # Group cities in sets of 50 for our logging purposes.\n",
    "    if (i % 50 -- 0 and i >= 50):\n",
    "        set_count += 1\n",
    "        record_count = 1\n",
    "        time.sleep(60)\n",
    "        \n",
    "        \n",
    "    # Create endpoint URL with each city.\n",
    "    city_url = url + \"&q=\" + cities[i]\n",
    "\n",
    "# DO NOT RUN"
   ]
  },
  {
   "cell_type": "code",
   "execution_count": null,
   "id": "fb0ce499",
   "metadata": {},
   "outputs": [],
   "source": [
    "# Loop through all the cities in the list.\n",
    "for i, city in enumerate(cities):\n",
    "\n",
    "    # Group cities in sets of 50 for logging purposes.\n",
    "    if (i % 50 == 0 and i >= 50):\n",
    "        set_count += 1\n",
    "        record_count = 1\n",
    "        time.sleep(60)\n",
    "\n",
    "    # Create endpoint URL with each city.\n",
    "    city_url = url + \"&q=\" + city.replace(\" \",\"+\")\n",
    "\n",
    "    # Log the URL, record, and set numbers and the city.\n",
    "    print(f\"Processing Record {record_count} of Set {set_count} | {city}\")\n",
    "    # Add 1 to the record count.\n",
    "    record_count += 1\n",
    "    \n",
    "# Run an API request for each of the cities.\n",
    "    try:\n",
    "        # Parse the JSON and retrieve data.\n",
    "        city_weather = requests.get(city_url).json()\n",
    "        # Parse out the needed data.\n",
    "        city_lat = city_weather[\"coord\"][\"lat\"]\n",
    "        city_lng = city_weather[\"coord\"][\"lon\"]\n",
    "        city_max_temp = city_weather[\"main\"][\"temp_max\"]\n",
    "        city_humidity = city_weather[\"main\"][\"humidity\"]\n",
    "        city_clouds = city_weather[\"clouds\"][\"all\"]\n",
    "        city_wind = city_weather[\"wind\"][\"speed\"]\n",
    "        city_country = city_weather[\"sys\"][\"country\"]\n",
    "        # Convert the date to ISO standard.\n",
    "        city_date = datetime.utcfromtimestamp(city_weather[\"dt\"]).strftime('%Y-%m-%d %H:%M:%S')\n",
    "        # Append the city information into city_data list.\n",
    "        city_data.append({\"City\": city.title(),\n",
    "                          \"Lat\": city_lat,\n",
    "                          \"Lng\": city_lng,\n",
    "                          \"Max Temp\": city_max_temp,\n",
    "                          \"Humidity\": city_humidity,\n",
    "                          \"Cloudiness\": city_clouds,\n",
    "                          \"Wind Speed\": city_wind,\n",
    "                          \"Country\": city_country,\n",
    "                          \"Date\": city_date})\n",
    "\n",
    "# If an error is experienced, skip the city.\n",
    "    except:\n",
    "        print(\"City not found. Skipping...\")\n",
    "        pass\n",
    "\n",
    "# Indicate that Data Loading is complete.\n",
    "print(\"-----------------------------\")\n",
    "print(\"Data Retrieval Complete      \")\n",
    "print(\"-----------------------------\")"
   ]
  },
  {
   "cell_type": "code",
   "execution_count": null,
   "id": "575bb56f",
   "metadata": {},
   "outputs": [],
   "source": [
    "# Will get results at this point"
   ]
  },
  {
   "cell_type": "code",
   "execution_count": null,
   "id": "bf95eca3",
   "metadata": {},
   "outputs": [],
   "source": [
    "# 6.2.7\n",
    "\n",
    "# Convert the array of dictionaries to a Pandas DataFrame.\n",
    "city_data_df = pd.DataFrame(city_data)\n",
    "city_data_df.head(10)"
   ]
  },
  {
   "cell_type": "code",
   "execution_count": null,
   "id": "4fa4dd7d",
   "metadata": {},
   "outputs": [],
   "source": [
    "new_column_order = [\"City\", \"Country\", \"Date\", \"Lat\", \"Lng\", \"Max Temp\", \"Humidity\", \"Cloudiness\", \"Wind Speed\"]\n",
    "city_data_df = city_data_df[new_column_order]\n",
    "city_data_df.head()"
   ]
  },
  {
   "cell_type": "code",
   "execution_count": null,
   "id": "388ba37e",
   "metadata": {},
   "outputs": [],
   "source": [
    "# Will get dataframe at this point"
   ]
  },
  {
   "cell_type": "code",
   "execution_count": null,
   "id": "9e32c395",
   "metadata": {},
   "outputs": [],
   "source": [
    "# Create the output file (CSV).\n",
    "output_data_file = \"weather_data/cities.csv\"\n",
    "\n",
    "# Export the city_data into a CSV.\n",
    "city_data_df.to_csv(output_data_file, index_label=\"City_ID\")"
   ]
  },
  {
   "cell_type": "code",
   "execution_count": null,
   "id": "5055e1ea",
   "metadata": {},
   "outputs": [],
   "source": [
    "# Import the cities CSV (Run top cell first)\n",
    "\n",
    "# File to load\n",
    "city_data_to_load = \"weather_data/cities.csv\"\n",
    "\n",
    "# Read the city data\n",
    "city_data_df = pd.read_csv(city_data_to_load)"
   ]
  },
  {
   "cell_type": "code",
   "execution_count": null,
   "id": "e669fb63",
   "metadata": {},
   "outputs": [],
   "source": [
    "# 6.3.1\n",
    "\n",
    "# Extract relevant fields from the DataFrame. for plotting.\n",
    "lats=city_data_df[\"Lat\"]\n",
    "max_temps=city_data_df[\"Max Temp\"]\n",
    "humidity=city_data_df[\"Humidity\"]\n",
    "cloudiness=city_data_df[\"Cloudiness\"]\n",
    "wind_speed=city_data_df[\"Wind Speed\"]"
   ]
  },
  {
   "cell_type": "code",
   "execution_count": null,
   "id": "529c9610",
   "metadata": {},
   "outputs": [],
   "source": [
    "# Import time module\n",
    "import time\n",
    "\n",
    "# Build the scatter plot for latitude vs. max temperature.\n",
    "plt.scatter(lats,\n",
    "           max_temps,\n",
    "           edgecolor=\"black\",\n",
    "           linewidths=1,\n",
    "           marker=\"o\",\n",
    "           alpha=0.8,\n",
    "           label=\"Cities\")\n",
    "\n",
    "# Incorporate the other graph properties.\n",
    "plt.title(f\"City Latitude vs. Max Temperature \" + time.strftime(\"%x\"))\n",
    "plt.ylabel(\"Max Temperature (F)\")\n",
    "plt.xlabel(\"Latitude\")\n",
    "plt.grid(True)\n",
    "\n",
    "# Save the figure.\n",
    "plt.savefig(\"weather_data/Fig1.png\")\n",
    "\n",
    "# Show plot.\n",
    "plt.show()\n"
   ]
  },
  {
   "cell_type": "code",
   "execution_count": null,
   "id": "61d38344",
   "metadata": {},
   "outputs": [],
   "source": [
    "# Will get City Latitude vrs Max Temperature  MatPlotlib here"
   ]
  },
  {
   "cell_type": "code",
   "execution_count": null,
   "id": "d7a08cba",
   "metadata": {},
   "outputs": [],
   "source": [
    "# 6.3.2\n",
    "\n",
    "# Build the scatter plot for latitude vs. humidity.\n",
    "plt.scatter(lats,\n",
    "           humidity,\n",
    "           edgecolor=\"black\",\n",
    "           linewidths=1,\n",
    "           marker=\"o\",\n",
    "           alpha=0.8,\n",
    "           label=\"Cities\")\n",
    "\n",
    "# Incorporate the other graph properties.\n",
    "plt.title(f\"City Latitude vs. Humidity \" + time.strftime(\"%x\"))\n",
    "plt.ylabel(\"Humidity (%)\")\n",
    "plt.xlabel(\"Latitude\")\n",
    "plt.grid(True)\n",
    "\n",
    "# Save the figure.\n",
    "plt.savefig(\"weather_data/Fig2.png\")\n",
    "\n",
    "# Show plot.\n",
    "plt.show()"
   ]
  },
  {
   "cell_type": "code",
   "execution_count": null,
   "id": "b9bd591a",
   "metadata": {},
   "outputs": [],
   "source": [
    "# Will get City Latitude vrs Humidity MatPlotLib here"
   ]
  },
  {
   "cell_type": "code",
   "execution_count": null,
   "id": "c3274d60",
   "metadata": {},
   "outputs": [],
   "source": [
    "# 6.3.3\n",
    "\n",
    "# Build the scatter plot for latitude vs. cloudiness.\n",
    "plt.scatter(lats,\n",
    "           cloudiness,\n",
    "           edgecolor=\"black\",\n",
    "           linewidths=1,\n",
    "           marker=\"o\",\n",
    "           alpha=0.8,\n",
    "           label=\"Cities\")\n",
    "\n",
    "# Incorporate the other graph properties.\n",
    "plt.title(f\"City Latitude vs. Cloudiness \" + time.strftime(\"%x\"))\n",
    "plt.ylabel(\"Cloudiness (%)\")\n",
    "plt.xlabel(\"Latitude\")\n",
    "plt.grid(True)\n",
    "\n",
    "# Save the figure.\n",
    "plt.savefig(\"weather_data/Fig3.png\")\n",
    "\n",
    "# Show plot.\n",
    "plt.show()"
   ]
  },
  {
   "cell_type": "code",
   "execution_count": null,
   "id": "159e40ce",
   "metadata": {},
   "outputs": [],
   "source": [
    "# Will get City Latitude vrs Cloudness here"
   ]
  },
  {
   "cell_type": "code",
   "execution_count": null,
   "id": "a9e21ca1",
   "metadata": {},
   "outputs": [],
   "source": [
    "# 6.3.4\n",
    "\n",
    "# Build the scatter plot for latitude vs. wind speed.\n",
    "plt.scatter(lats,\n",
    "           wind_speed,\n",
    "           edgecolor=\"black\",\n",
    "           linewidths=1,\n",
    "           marker=\"o\",\n",
    "           alpha=0.8,\n",
    "           label=\"Cities\")\n",
    "\n",
    "# Incorporate the other graph properties.\n",
    "plt.title(f\"City Latitude vs. Wind Speed \" + time.strftime(\"%x\"))\n",
    "plt.ylabel(\"Wind Speed (mph)\")\n",
    "plt.xlabel(\"Latitude\")\n",
    "plt.grid(True)\n",
    "\n",
    "# Save the figure.\n",
    "plt.savefig(\"weather_data/Fig4.png\")\n",
    "\n",
    "# Show plot.\n",
    "plt.show()"
   ]
  },
  {
   "cell_type": "code",
   "execution_count": null,
   "id": "07cac632",
   "metadata": {},
   "outputs": [],
   "source": [
    "# Will get City Latitude vrs Wind Speed here"
   ]
  },
  {
   "cell_type": "code",
   "execution_count": null,
   "id": "6eac0dfd",
   "metadata": {},
   "outputs": [],
   "source": [
    "# 6.4.2\n",
    "\n",
    "# Import linregress\n",
    "from scipy.stats import linregress\n",
    "\n",
    "# Create a function to create perform linear regression on the weather data and plot a regression line and the equation with the data.\n",
    "def plot_linear_regression(x_values, y_values, title, y_label, text_coordinates):\n",
    "    \n",
    "    # Run regression on hemisphere weather data.\n",
    "    (slope, intercept, r_value, p_value, std_err)=linregress(x_values, y_values)\n",
    "    \n",
    "    # Calculate the regression line \"y values\" from the slope and intercept.\n",
    "    regress_values=x_values * slope + intercept\n",
    "    \n",
    "    # Get the equation of the line.\n",
    "    line_eq=\"y = \" + str(round(slope,2)) + \"x + \" + str(round(intercept,2))\n",
    "    \n",
    "    # Create a scatter plot and plot the regression line.\n",
    "    plt.scatter(x_values, y_values)\n",
    "    plt.plot(x_values, regress_values, \"r\")\n",
    "    \n",
    "    # Annotate the text for the line equation.\n",
    "    plt.annotate(line_eq, text_coordinates, fontsize=15, color=\"red\")\n",
    "    plt.title(title)\n",
    "    plt.xlabel(\"Latitude\")\n",
    "    plt.ylabel(y_label)\n",
    "    plt.show()"
   ]
  },
  {
   "cell_type": "code",
   "execution_count": null,
   "id": "7023a08e",
   "metadata": {},
   "outputs": [],
   "source": [
    "# Create Northern and Southern Hemisphere DataFrames.\n",
    "\n",
    "northern_hemi_df=city_data_df.loc[(city_data_df[\"Lat\"] >= 0)]\n",
    "southern_hemi_df=city_data_df.loc[(city_data_df[\"Lat\"] < 0)]"
   ]
  },
  {
   "cell_type": "code",
   "execution_count": null,
   "id": "cce70bff",
   "metadata": {},
   "outputs": [],
   "source": [
    "# Linear regression on the Northern Hemisphere.\n",
    "x_values=northern_hemi_df[\"Lat\"]\n",
    "y_values=northern_hemi_df[\"Max Temp\"]\n",
    "\n",
    "# Call the function.\n",
    "plot_linear_regression(x_values,y_values,\n",
    "                      'Linear Regression on the Northern Hemisphere \\nfor Maximum Temperature', 'Max Temp',(10,40))"
   ]
  },
  {
   "cell_type": "code",
   "execution_count": null,
   "id": "a1ea4934",
   "metadata": {},
   "outputs": [],
   "source": [
    "#Will get Linear Regression on the Northern Hemisphere for Maximum Temperature here"
   ]
  },
  {
   "cell_type": "code",
   "execution_count": null,
   "id": "2c98a8e3",
   "metadata": {},
   "outputs": [],
   "source": [
    "# Linear regression on the Southern Hemisphere.\n",
    "x_values=southern_hemi_df[\"Lat\"]\n",
    "y_values=southern_hemi_df[\"Max Temp\"]\n",
    "\n",
    "# Call the function.\n",
    "plot_linear_regression(x_values,y_values,\n",
    "                      'Linear Regression on the Southern Hemisphere \\nfor Maximum Temperature', 'Max Temp',(-50,90))"
   ]
  },
  {
   "cell_type": "code",
   "execution_count": null,
   "id": "31b96aba",
   "metadata": {},
   "outputs": [],
   "source": [
    "# Will get Linear Regression on the Southern Hemisphere for Maximum Temperature"
   ]
  },
  {
   "cell_type": "code",
   "execution_count": null,
   "id": "3768fd25",
   "metadata": {},
   "outputs": [],
   "source": [
    "# 6.4.3\n",
    "\n",
    "# Linear regression on the Northern Hemisphere.\n",
    "x_values=northern_hemi_df[\"Lat\"]\n",
    "y_values=northern_hemi_df[\"Humidity\"]\n",
    "\n",
    "# Call the function.\n",
    "plot_linear_regression(x_values, y_values,\n",
    "                      'Linear Regression on the Northern Hemisphere \\nfor % Humidity', '% Humidity', (40,10))"
   ]
  },
  {
   "cell_type": "code",
   "execution_count": null,
   "id": "4214f663",
   "metadata": {},
   "outputs": [],
   "source": [
    "#Will get LInear Regression on the Northern Hemisphere for % Humidity"
   ]
  },
  {
   "cell_type": "code",
   "execution_count": null,
   "id": "07ef5670",
   "metadata": {},
   "outputs": [],
   "source": [
    "# Linear regression on the Southern Hemisphere.\n",
    "x_values=southern_hemi_df[\"Lat\"]\n",
    "y_values=southern_hemi_df[\"Humidity\"]\n",
    "\n",
    "# Call the function.\n",
    "plot_linear_regression(x_values, y_values,\n",
    "                      'Linear Regression on the Southern Hemisphere \\nfor % Humidity', '% Humidity', (-50,15))"
   ]
  },
  {
   "cell_type": "code",
   "execution_count": null,
   "id": "d4e12140",
   "metadata": {},
   "outputs": [],
   "source": [
    "# Will get Linear Regression on the Southern Hemisphere for % Humidity here"
   ]
  },
  {
   "cell_type": "code",
   "execution_count": null,
   "id": "8220499f",
   "metadata": {},
   "outputs": [],
   "source": [
    "# 6.4.4\n",
    "\n",
    "# Linear regression on the Northern Hemisphere.\n",
    "x_values=northern_hemi_df[\"Lat\"]\n",
    "y_values=northern_hemi_df[\"Cloudiness\"]\n",
    "\n",
    "# Call the function.\n",
    "plot_linear_regression(x_values, y_values,\n",
    "                      'Linear Regression on the Northern Hemisphere \\nfor % Cloudiness', '% Cloudiness', (40,10))"
   ]
  },
  {
   "cell_type": "code",
   "execution_count": null,
   "id": "8cce9b7f",
   "metadata": {},
   "outputs": [],
   "source": [
    "# Will get Linear Regression on the Northern Hemisphere for % Cloudiness here"
   ]
  },
  {
   "cell_type": "code",
   "execution_count": null,
   "id": "bbf479cf",
   "metadata": {},
   "outputs": [],
   "source": [
    "# Linear regression on the Southern Hemisphere.\n",
    "x_values=southern_hemi_df[\"Lat\"]\n",
    "y_values=southern_hemi_df[\"Cloudiness\"]\n",
    "\n",
    "# Call the function.\n",
    "plot_linear_regression(x_values, y_values,\n",
    "                      'Linear Regression on the Southern Hemisphere \\nfor % Cloudiness', '% Cloudiness', (-50,10))"
   ]
  },
  {
   "cell_type": "code",
   "execution_count": null,
   "id": "7387a893",
   "metadata": {},
   "outputs": [],
   "source": [
    "# Will get Linear Regression on the Southern Hemisphere for % Cloudiness here"
   ]
  },
  {
   "cell_type": "code",
   "execution_count": null,
   "id": "59404b85",
   "metadata": {},
   "outputs": [],
   "source": [
    "# 6.4.5\n",
    "\n",
    "# Linear regression on the Northern Hemisphere.\n",
    "x_values=northern_hemi_df[\"Lat\"]\n",
    "y_values=northern_hemi_df[\"Wind Speed\"]\n",
    "\n",
    "# Call the function.\n",
    "plot_linear_regression(x_values, y_values,\n",
    "                      'Linear Regression on the Northern Hemisphere \\nfor Wind Speed', 'Wind Speed', (0,30))"
   ]
  },
  {
   "cell_type": "code",
   "execution_count": null,
   "id": "cff0438f",
   "metadata": {},
   "outputs": [],
   "source": [
    "# Will get Linear Regression on the Northern Hemisphere for Wind Speed here"
   ]
  },
  {
   "cell_type": "code",
   "execution_count": null,
   "id": "df7ebd43",
   "metadata": {},
   "outputs": [],
   "source": [
    "# Linear regression on the Northern Hemisphere.\n",
    "x_values=southern_hemi_df[\"Lat\"]\n",
    "y_values=southern_hemi_df[\"Wind Speed\"]\n",
    "\n",
    "# Call the function.\n",
    "plot_linear_regression(x_values, y_values,\n",
    "                      'Linear Regression on the Southern Hemisphere \\nfor Wind Speed', 'Wind Speed', (-50,20))"
   ]
  },
  {
   "cell_type": "code",
   "execution_count": null,
   "id": "8d9ce932",
   "metadata": {},
   "outputs": [],
   "source": [
    "# Will get Linear Regression on the Southern Hemisphere for Wind Speed here"
   ]
  },
  {
   "cell_type": "code",
   "execution_count": null,
   "id": "2f6a7b62",
   "metadata": {},
   "outputs": [],
   "source": []
  }
 ],
 "metadata": {
  "kernelspec": {
   "display_name": "Python 3 (ipykernel)",
   "language": "python",
   "name": "python3"
  },
  "language_info": {
   "codemirror_mode": {
    "name": "ipython",
    "version": 3
   },
   "file_extension": ".py",
   "mimetype": "text/x-python",
   "name": "python",
   "nbconvert_exporter": "python",
   "pygments_lexer": "ipython3",
   "version": "3.9.7"
  }
 },
 "nbformat": 4,
 "nbformat_minor": 5
}
